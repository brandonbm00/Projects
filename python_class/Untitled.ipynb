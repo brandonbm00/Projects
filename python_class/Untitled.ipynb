{
 "cells": [
  {
   "cell_type": "markdown",
   "metadata": {},
   "source": [
    "# Introduction to Data Science with Python"
   ]
  },
  {
   "cell_type": "markdown",
   "metadata": {},
   "source": [
    "### The limitations of the built-in python list "
   ]
  },
  {
   "cell_type": "markdown",
   "metadata": {},
   "source": [
    "Lists are flexible, dynamic python objects that do their job quite well. But they do not support some mathematical operations in an intuitive way. Consider the summation of two lists, $l_1$ and $l_2$:"
   ]
  },
  {
   "cell_type": "code",
   "execution_count": 3,
   "metadata": {
    "collapsed": false
   },
   "outputs": [
    {
     "name": "stdout",
     "output_type": "stream",
     "text": [
      "Sum of Lists: [1, 2, 3, 3, 4, 5]\n"
     ]
    }
   ],
   "source": [
    "l_1 = [1,2,3] # A basic list of ints\n",
    "l_2 = [3,4,5] # Another basic list of ints\n",
    "print('Sum of Lists: %s' % (l_1 + l_2))"
   ]
  },
  {
   "cell_type": "markdown",
   "metadata": {},
   "source": [
    "In fact, the difference of lists throws an error that complains that the difference operation isn't supported at all"
   ]
  },
  {
   "cell_type": "code",
   "execution_count": 4,
   "metadata": {
    "collapsed": false
   },
   "outputs": [
    {
     "ename": "TypeError",
     "evalue": "unsupported operand type(s) for -: 'list' and 'list'",
     "output_type": "error",
     "traceback": [
      "\u001b[0;31m---------------------------------------------------------------------------\u001b[0m",
      "\u001b[0;31mTypeError\u001b[0m                                 Traceback (most recent call last)",
      "\u001b[0;32m<ipython-input-4-4ac93884d967>\u001b[0m in \u001b[0;36m<module>\u001b[0;34m()\u001b[0m\n\u001b[0;32m----> 1\u001b[0;31m \u001b[0;32mprint\u001b[0m\u001b[0;34m(\u001b[0m\u001b[0;34m'Difference of Lists: %s'\u001b[0m \u001b[0;34m%\u001b[0m \u001b[0;34m(\u001b[0m\u001b[0ml_1\u001b[0m \u001b[0;34m-\u001b[0m \u001b[0ml_2\u001b[0m\u001b[0;34m)\u001b[0m\u001b[0;34m)\u001b[0m\u001b[0;34m\u001b[0m\u001b[0m\n\u001b[0m",
      "\u001b[0;31mTypeError\u001b[0m: unsupported operand type(s) for -: 'list' and 'list'"
     ]
    }
   ],
   "source": [
    "print('Difference of Lists: %s' % (l_1 - l_2))"
   ]
  },
  {
   "cell_type": "markdown",
   "metadata": {},
   "source": [
    "If we wanted to sum lists elementwise, we could write our own function that does the job entirely within the framework of python"
   ]
  },
  {
   "cell_type": "code",
   "execution_count": 5,
   "metadata": {
    "collapsed": true
   },
   "outputs": [],
   "source": [
    "def add_lists(list_1, list_2):\n",
    "    assert(len(list_1) == len(list_2)) # Lists must be the same length for this to make sense\n",
    "    length = len(list_1) # can be either\n",
    "    \n",
    "    # Main loop\n",
    "    ret = []\n",
    "    for i in range(length):\n",
    "        ret.append(list_1[i] + list_2[i])\n",
    "    return ret"
   ]
  },
  {
   "cell_type": "code",
   "execution_count": 6,
   "metadata": {
    "collapsed": false
   },
   "outputs": [
    {
     "name": "stdout",
     "output_type": "stream",
     "text": [
      "Sum of Lists: [4, 6, 8]\n"
     ]
    }
   ],
   "source": [
    "ans = add_lists(l_1, l_2)\n",
    "print('Sum of Lists: %s' % ans)"
   ]
  },
  {
   "cell_type": "markdown",
   "metadata": {},
   "source": [
    "We would have to write a similar function for all the possible operands that we could consider for list arithmatic. This is time consuming and inefficient. Moreover, once the lists in question become nested, mimicing the behavior of true matrices, the problem gets worse. Complicated indexing is necessary, just to allow for the most basic matrix operations common throughout science and engineering. Imagine writing a matrix multiplication function using python syntax in a general way, such that it returns a matrix-matrix or matrix-vector product:\n",
    "\n",
    "\\begin{align}\n",
    "(n \\times x) \\times (x \\times m) \\rightarrow (n \\times m)\n",
    "\\end{align}\n",
    "\n",
    "\\begin{align}\n",
    "\\begin{bmatrix}\n",
    "c_{0,0} & ... & c_{0,n} \\\\\n",
    "\\vdots & \\ddots & \\vdots \\\\\n",
    "c_{m,0} & ... & c_{m,n}\n",
    "\\end{bmatrix}\n",
    "=\n",
    "\\begin{bmatrix}\n",
    "a_{0,0} & ... & a_{0,x} \\\\\n",
    "\\vdots & \\ddots & \\vdots \\\\\n",
    "a_{n,0} & ... & a_{n,x}\n",
    "\\end{bmatrix}\n",
    "\\begin{bmatrix}\n",
    "b_{0,0} & ... & b_{0,m} \\\\\n",
    "\\vdots & \\ddots & \\vdots \\\\\n",
    "b_{x,0} & ... & b_{x,m}\n",
    "\\end{bmatrix}\n",
    "\\end{align}\n",
    "\n",
    "Let is instantiate a matrix $\\mathcal{M}$ and a vector $\\vec{v}$ and write a function that does the multiplication ourselves.\n"
   ]
  },
  {
   "cell_type": "code",
   "execution_count": 7,
   "metadata": {
    "collapsed": false
   },
   "outputs": [],
   "source": [
    "def matrix_multiply(A, B):\n",
    "    ret = [ [0 for i in range(len(B[0]))] for i in range(len(A))] # number of rows in the result\n",
    "    \n",
    "    inner_dim = len(A[0])\n",
    "    n_dim = len(ret)\n",
    "    m_dim = len(ret[0])\n",
    "    \n",
    "    \n",
    "    for i in range(n_dim):\n",
    "        for j in range(m_dim):\n",
    "            element = 0\n",
    "            for x in range(inner_dim):\n",
    "                    element += A[i][x] * B[x][j]\n",
    "            ret[i][j] = element\n",
    "    \n",
    "    return ret\n",
    "M = [[0,1,0],[0,2,0],[0,3,0]]\n",
    "v = [[1],[2],[3]]"
   ]
  },
  {
   "cell_type": "code",
   "execution_count": 8,
   "metadata": {
    "collapsed": false
   },
   "outputs": [
    {
     "name": "stdout",
     "output_type": "stream",
     "text": [
      "[[2], [4], [6]]\n"
     ]
    }
   ],
   "source": [
    "print(matrix_multiply(M, v))"
   ]
  },
  {
   "cell_type": "markdown",
   "metadata": {},
   "source": [
    "We needed a complex list comprehension and a nontrivial nested list structure to be able to perform the necessary computation. Moreover, the function contains a triple for-loop, this type of code doesn't scale well to large matrix products under the Python memory model. Lastly, writing functions like this for every operation in linear algebra, especially when matrices become tensors, is impractical. NumPy fills this gap with a huge number of fast, amazing functions."
   ]
  },
  {
   "cell_type": "markdown",
   "metadata": {},
   "source": [
    "### NumPy and the NDArray"
   ]
  },
  {
   "cell_type": "code",
   "execution_count": 9,
   "metadata": {
    "collapsed": true
   },
   "outputs": [],
   "source": [
    "import numpy as np # By convention, this is how NumPy is used"
   ]
  },
  {
   "cell_type": "markdown",
   "metadata": {},
   "source": [
    "NumPy is based around a class called the $\\textit{NDArray}$, which is a flexible vector / matrix class that implements the intuitive matrix and vector arithmatic lacking in basic Python. Let's start by creating some NDArrays:"
   ]
  },
  {
   "cell_type": "code",
   "execution_count": 10,
   "metadata": {
    "collapsed": false
   },
   "outputs": [
    {
     "name": "stdout",
     "output_type": "stream",
     "text": [
      "Here is l_1 now: [1 2 3]\n",
      "Here is the type: <type 'numpy.ndarray'>\n"
     ]
    }
   ],
   "source": [
    "l_1 = np.array(l_1) # Cast a list explicitly to a NumPy array\n",
    "l_2 = np.array(l_2)\n",
    "print('Here is l_1 now: %s' % l_1)\n",
    "print('Here is the type: %s' % type(l_1))"
   ]
  },
  {
   "cell_type": "code",
   "execution_count": 11,
   "metadata": {
    "collapsed": false
   },
   "outputs": [
    {
     "name": "stdout",
     "output_type": "stream",
     "text": [
      "[1 2 3] + [3 4 5] = [4 6 8]\n",
      "[1 2 3] - [3 4 5] = [-2 -2 -2]\n",
      "\n",
      "\n",
      "l_1 + 1 = [2 3 4]\n"
     ]
    }
   ],
   "source": [
    "# We can do some intuitive operations now\n",
    "ans = l_1 + l_2\n",
    "print('%s + %s = %s' % (l_1, l_2, ans))\n",
    "ans = l_1 - l_2\n",
    "print('%s - %s = %s' % (l_1, l_2, ans))\n",
    "\n",
    "print('\\n')\n",
    "\n",
    "# They support the 'broadcasting' of scalars\n",
    "print('l_1 + 1 = %s' % (l_1 + 1))"
   ]
  },
  {
   "cell_type": "markdown",
   "metadata": {},
   "source": [
    "### Multidimensional Arrays"
   ]
  },
  {
   "cell_type": "markdown",
   "metadata": {},
   "source": [
    "NumPy seamlessly supports multidimensional arrays, matrices, and tensors of arbitrary dimension without nesting NDArrays. NDArrays themselves are flexible and extensible and may be defined with such dimensions, with a rich API of common functions to facilitate their use. Let's start by building a two dimensional 3x3 matrix by conversion from a nested group of core python lists $M = [l_0, l_1, l_2]$:"
   ]
  },
  {
   "cell_type": "code",
   "execution_count": 12,
   "metadata": {
    "collapsed": false
   },
   "outputs": [
    {
     "name": "stdout",
     "output_type": "stream",
     "text": [
      "Nested List Structure: [[0, 1, 2], [3, 4, 5], [6, 7, 8]]\n",
      "Nested List Structure after conversion: \n",
      " [[0 1 2]\n",
      " [3 4 5]\n",
      " [6 7 8]]\n",
      "And it's type: <type 'numpy.ndarray'>\n"
     ]
    }
   ],
   "source": [
    "l_0 = [0,1,2]\n",
    "l_1 = [3,4,5]\n",
    "l_2 = [6,7,8]\n",
    "M = [l_0, l_1, l_2]\n",
    "\n",
    "print('Nested List Structure: %s' % M)\n",
    "\n",
    "M = np.array(M) # cast directly. Dimensions inferred\n",
    "\n",
    "print('Nested List Structure after conversion: \\n %s' % M)\n",
    "print('And it\\'s type: %s' % type(M))"
   ]
  },
  {
   "cell_type": "markdown",
   "metadata": {},
   "source": [
    "Now, we can use the more intuitive, MATLAB-like indexing syntax to assign and access elements of multidimensional NDArrays:"
   ]
  },
  {
   "cell_type": "code",
   "execution_count": 13,
   "metadata": {
    "collapsed": false
   },
   "outputs": [
    {
     "name": "stdout",
     "output_type": "stream",
     "text": [
      "Middle element 4\n",
      "After Assignment: \n",
      " [[0 1 2]\n",
      " [3 4 1]\n",
      " [6 7 8]]\n"
     ]
    }
   ],
   "source": [
    "print('Middle element %s' % M[1,1])\n",
    "\n",
    "M[1,2] = 1.5 # A float\n",
    "\n",
    "print('After Assignment: \\n %s' % M)"
   ]
  },
  {
   "cell_type": "markdown",
   "metadata": {},
   "source": [
    "Notice how we ended up with a 1 in the target element's place. This is a data type issue. The .dtype() method is supported by all NDArrays, as well as the .astype() method for casting between data types:"
   ]
  },
  {
   "cell_type": "code",
   "execution_count": 14,
   "metadata": {
    "collapsed": false
   },
   "outputs": [
    {
     "name": "stdout",
     "output_type": "stream",
     "text": [
      "Data type of M: int64\n",
      "Data type of M: float64\n",
      "After Assignment: \n",
      " [[ 0.   1.   2. ]\n",
      " [ 3.   4.   1.5]\n",
      " [ 6.   7.   8. ]]\n"
     ]
    }
   ],
   "source": [
    "t = M.dtype\n",
    "print('Data type of M: %s' % t)\n",
    "\n",
    "M = M.astype(np.float64)\n",
    "\n",
    "t = M.dtype\n",
    "print('Data type of M: %s' % t)\n",
    "\n",
    "M[1,2] = 1.5 # A float\n",
    "\n",
    "print('After Assignment: \\n %s' % M)"
   ]
  },
  {
   "cell_type": "code",
   "execution_count": null,
   "metadata": {
    "collapsed": true
   },
   "outputs": [],
   "source": []
  },
  {
   "cell_type": "markdown",
   "metadata": {},
   "source": [
    "### The Shape"
   ]
  },
  {
   "cell_type": "markdown",
   "metadata": {},
   "source": [
    "The behavior and properties of an NDArray are often sensitively dependent on the $\\textit{shape}$ of the NDArray itself. The shape of an array can be found by calling the .shape method, which will return a tuple containing the array's dimensions:"
   ]
  },
  {
   "cell_type": "code",
   "execution_count": 15,
   "metadata": {
    "collapsed": false
   },
   "outputs": [
    {
     "name": "stdout",
     "output_type": "stream",
     "text": [
      "Our 2D matrix M: \n",
      " [[ 0.   1.   2. ]\n",
      " [ 3.   4.   1.5]\n",
      " [ 6.   7.   8. ]]\n",
      "Shape:\n",
      "(3, 3)\n",
      "Reshaped:\n",
      "[[ 0. ]\n",
      " [ 1. ]\n",
      " [ 2. ]\n",
      " [ 3. ]\n",
      " [ 4. ]\n",
      " [ 1.5]\n",
      " [ 6. ]\n",
      " [ 7. ]\n",
      " [ 8. ]]\n",
      "Alternatively...\n",
      "[[ 0.   1.   2.   3.   4.   1.5  6.   7.   8. ]]\n"
     ]
    }
   ],
   "source": [
    "print('Our 2D matrix M: \\n %s' % M)\n",
    "print('Shape:')\n",
    "print(M.shape)\n",
    "\n",
    "# As long as the number of elements remains fixed, we can reshape NDArrays at will:\n",
    "print('Reshaped:')\n",
    "print(M.reshape( (9,1) ))\n",
    "\n",
    "# Notice that (9,1) is not the same as (1,9) !!!\n",
    "\n",
    "print('Alternatively...')\n",
    "print(M.reshape( (1,9) ))"
   ]
  },
  {
   "cell_type": "markdown",
   "metadata": {},
   "source": [
    "With the concept of shape firmly in mind, let's go over some useful functions within the NDArray API."
   ]
  },
  {
   "cell_type": "code",
   "execution_count": 16,
   "metadata": {
    "collapsed": false
   },
   "outputs": [
    {
     "name": "stdout",
     "output_type": "stream",
     "text": [
      "A linear array of zeros\n",
      "[ 0.  0.  0.  0.  0.  0.  0.  0.  0.]\n",
      "A square arrary of zeros\n",
      "[[ 0.  0.  0.]\n",
      " [ 0.  0.  0.]\n",
      " [ 0.  0.  0.]]\n",
      "A 4x4 array of consecutive integers\n",
      "M - linear\n",
      "[ 0  1  2  3  4  5  6  7  8  9 10 11 12 13 14 15]\n",
      "M - reshaped\n",
      "[[ 0  1  2  3]\n",
      " [ 4  5  6  7]\n",
      " [ 8  9 10 11]\n",
      " [12 13 14 15]]\n"
     ]
    }
   ],
   "source": [
    "M = np.zeros(9)\n",
    "print('A linear array of zeros')\n",
    "print(M)\n",
    "\n",
    "M = np.zeros((3,3))\n",
    "print('A square arrary of zeros')\n",
    "print(M)\n",
    "\n",
    "print('A 4x4 array of consecutive integers')\n",
    "\n",
    "M = np.arange(16)\n",
    "print('M - linear')\n",
    "print(M)\n",
    "M = np.arange(16).reshape((4,4)) # Can build this array rapidly\n",
    "print('M - reshaped')\n",
    "print(M)"
   ]
  },
  {
   "cell_type": "markdown",
   "metadata": {},
   "source": [
    "Multidimensional NDArrays support MATLAB-like indexing, with which you can read from or assign to portions of the multidimensional NDArray very easily. "
   ]
  },
  {
   "cell_type": "code",
   "execution_count": 17,
   "metadata": {
    "collapsed": false
   },
   "outputs": [
    {
     "name": "stdout",
     "output_type": "stream",
     "text": [
      "Before assignment:\n",
      "[[ 0.  0.  0.  0.]\n",
      " [ 0.  0.  0.  0.]\n",
      " [ 0.  0.  0.  0.]\n",
      " [ 0.  0.  0.  0.]]\n",
      "After assignment:\n",
      "[[ 1.  0.  0.  0.]\n",
      " [ 1.  0.  0.  0.]\n",
      " [ 1.  0.  0.  0.]\n",
      " [ 1.  0.  0.  0.]]\n",
      "After assignment again:\n",
      "[[ 1.  0.  0.  0.]\n",
      " [ 1.  0.  0.  0.]\n",
      " [ 5.  5.  5.  5.]\n",
      " [ 1.  0.  0.  0.]]\n",
      "A more complex assignment:\n",
      "[[ 0.  2.  2.  0.]\n",
      " [ 0.  2.  2.  0.]\n",
      " [ 0.  2.  2.  0.]\n",
      " [ 0.  2.  2.  0.]]\n",
      "Assignment using other NDArrays:\n",
      "[[ 0.  0.  0.  0.]\n",
      " [ 1.  0.  0.  0.]\n",
      " [-1.  0.  1.  2.]\n",
      " [ 3.  0.  0.  0.]]\n"
     ]
    }
   ],
   "source": [
    "M = np.zeros((4,4))\n",
    "print('Before assignment:')\n",
    "print(M)\n",
    "\n",
    "M[:,0] = 1\n",
    "print('After assignment:')\n",
    "print(M)\n",
    "\n",
    "print('After assignment again:')\n",
    "M[2,:] = 5\n",
    "print(M)\n",
    "\n",
    "M = M*0 # Reset the matrix \n",
    "\n",
    "# We can even do more complicated stuff\n",
    "\n",
    "M[:, 1:3] = 2\n",
    "print('A more complex assignment:')\n",
    "print(M)\n",
    "\n",
    "x = np.arange(4)\n",
    "M = M*0\n",
    "\n",
    "M[:,0] = x\n",
    "M[2,:] = x-1\n",
    "\n",
    "print('Assignment using other NDArrays:')\n",
    "print(M)"
   ]
  },
  {
   "cell_type": "markdown",
   "metadata": {},
   "source": [
    "As long as the shapes of NDArrays are 'compatible', they can be multiplied elementwise, broadcasted, used in inner products, and much much more. 'Compatible' in this context can mean compatible in the linear algebraic sense, i.e. for inner products and other matrix multiplication, or simply sharing a dimension in such a manner that broadcasting 'makes sense'. Here are some examples of this:"
   ]
  },
  {
   "cell_type": "code",
   "execution_count": 18,
   "metadata": {
    "collapsed": false
   },
   "outputs": [
    {
     "name": "stdout",
     "output_type": "stream",
     "text": [
      "M Before:\n",
      "[[ 0.  0.  0.  0.]\n",
      " [ 0.  0.  0.  0.]\n",
      " [-0.  0.  0.  0.]\n",
      " [ 0.  0.  0.  0.]]\n",
      "v Before:\n",
      "[[0]\n",
      " [1]\n",
      " [2]\n",
      " [3]]\n",
      "M After:\n",
      "[[ 0.  0.  0.  0.]\n",
      " [ 1.  1.  1.  1.]\n",
      " [ 2.  2.  2.  2.]\n",
      " [ 3.  3.  3.  3.]]\n"
     ]
    }
   ],
   "source": [
    "M = M*0 # re-initialize\n",
    "v = np.arange(4).reshape((4,1))\n",
    "\n",
    "print('M Before:')\n",
    "print(M)\n",
    "print('v Before:')\n",
    "print(v)\n",
    "\n",
    "M = M + v\n",
    "print('M After:')\n",
    "print(M)"
   ]
  },
  {
   "cell_type": "markdown",
   "metadata": {},
   "source": [
    "Definitely of note is np.where:"
   ]
  },
  {
   "cell_type": "code",
   "execution_count": 19,
   "metadata": {
    "collapsed": false
   },
   "outputs": [
    {
     "data": {
      "text/plain": [
       "(array([1, 1, 1, 1]), array([0, 1, 2, 3]))"
      ]
     },
     "execution_count": 19,
     "metadata": {},
     "output_type": "execute_result"
    }
   ],
   "source": [
    "np.where(M == 1) # Find elements of a conditions"
   ]
  },
  {
   "cell_type": "code",
   "execution_count": 20,
   "metadata": {
    "collapsed": false
   },
   "outputs": [
    {
     "name": "stdout",
     "output_type": "stream",
     "text": [
      "[[ 0.   0.   0.   0. ]\n",
      " [ 1.5  1.5  1.5  1.5]\n",
      " [ 1.5  1.5  1.5  1.5]\n",
      " [ 1.5  1.5  1.5  1.5]]\n"
     ]
    }
   ],
   "source": [
    "M[np.where(M > 0)] = 1.5\n",
    "print(M)"
   ]
  },
  {
   "cell_type": "markdown",
   "metadata": {},
   "source": [
    "# The Pandas Data Analysis Library"
   ]
  },
  {
   "cell_type": "markdown",
   "metadata": {
    "collapsed": true
   },
   "source": [
    "Pandas is a flexible data analysis library built on top of NumPy that is excellent for working with tabular data. It is currently the de-facto standard for Python-based data analysis, and fluency in Pandas will do wonders for your productivity and frankly your resume. It is one of the fastest ways of getting from zero to answer in existence. "
   ]
  },
  {
   "cell_type": "markdown",
   "metadata": {},
   "source": [
    "### Tabular data structures"
   ]
  },
  {
   "cell_type": "markdown",
   "metadata": {},
   "source": [
    "The central object of study in Pandas is the DataFrame, which is a tabular data structure with rows and columns like an excel spreadsheet. The first point of discussion is the creation of dataframes both from native Python dictionaries, and text files through the Pandas I/O system."
   ]
  },
  {
   "cell_type": "code",
   "execution_count": 21,
   "metadata": {
    "collapsed": true
   },
   "outputs": [],
   "source": [
    "import pandas as pd"
   ]
  },
  {
   "cell_type": "code",
   "execution_count": 32,
   "metadata": {
    "collapsed": false
   },
   "outputs": [
    {
     "name": "stdout",
     "output_type": "stream",
     "text": [
      "{'ages': array([31, 32, 33, 29, 25, 34, 25, 33, 27, 34]), 'names': ['Alice', 'Bob', 'James', 'Beth', 'John', 'Sally', 'Richard', 'Lauren', 'Brandon', 'Sabrina']}\n"
     ]
    }
   ],
   "source": [
    "names = ['Alice',\n",
    "         'Bob',\n",
    "         'James',\n",
    "         'Beth', \n",
    "         'John', \n",
    "         'Sally',\n",
    "         'Richard', \n",
    "         'Lauren',\n",
    "         'Brandon', \n",
    "         'Sabrina']\n",
    "\n",
    "ages = np.random.randint(18,35, len(names))# Some random ages between 18 and 35\n",
    "my_dict = {'names':names, 'ages':ages}\n",
    "print(my_dict)"
   ]
  },
  {
   "cell_type": "markdown",
   "metadata": {},
   "source": [
    "Let's convert our not-so-useful-for-analysis dict into a Pandas dataframe. We can ue the from_dict function to do this easily using Pandas:"
   ]
  },
  {
   "cell_type": "code",
   "execution_count": 47,
   "metadata": {
    "collapsed": false
   },
   "outputs": [
    {
     "name": "stdout",
     "output_type": "stream",
     "text": [
      "Resulting type: <class 'pandas.core.frame.DataFrame'>\n"
     ]
    },
    {
     "data": {
      "text/html": [
       "<div>\n",
       "<table border=\"1\" class=\"dataframe\">\n",
       "  <thead>\n",
       "    <tr style=\"text-align: right;\">\n",
       "      <th></th>\n",
       "      <th>ages</th>\n",
       "      <th>names</th>\n",
       "    </tr>\n",
       "  </thead>\n",
       "  <tbody>\n",
       "    <tr>\n",
       "      <th>0</th>\n",
       "      <td>31</td>\n",
       "      <td>Alice</td>\n",
       "    </tr>\n",
       "    <tr>\n",
       "      <th>1</th>\n",
       "      <td>32</td>\n",
       "      <td>Bob</td>\n",
       "    </tr>\n",
       "    <tr>\n",
       "      <th>2</th>\n",
       "      <td>33</td>\n",
       "      <td>James</td>\n",
       "    </tr>\n",
       "    <tr>\n",
       "      <th>3</th>\n",
       "      <td>29</td>\n",
       "      <td>Beth</td>\n",
       "    </tr>\n",
       "    <tr>\n",
       "      <th>4</th>\n",
       "      <td>25</td>\n",
       "      <td>John</td>\n",
       "    </tr>\n",
       "    <tr>\n",
       "      <th>5</th>\n",
       "      <td>34</td>\n",
       "      <td>Sally</td>\n",
       "    </tr>\n",
       "    <tr>\n",
       "      <th>6</th>\n",
       "      <td>25</td>\n",
       "      <td>Richard</td>\n",
       "    </tr>\n",
       "    <tr>\n",
       "      <th>7</th>\n",
       "      <td>33</td>\n",
       "      <td>Lauren</td>\n",
       "    </tr>\n",
       "    <tr>\n",
       "      <th>8</th>\n",
       "      <td>27</td>\n",
       "      <td>Brandon</td>\n",
       "    </tr>\n",
       "    <tr>\n",
       "      <th>9</th>\n",
       "      <td>34</td>\n",
       "      <td>Sabrina</td>\n",
       "    </tr>\n",
       "  </tbody>\n",
       "</table>\n",
       "</div>"
      ],
      "text/plain": [
       "   ages    names\n",
       "0    31    Alice\n",
       "1    32      Bob\n",
       "2    33    James\n",
       "3    29     Beth\n",
       "4    25     John\n",
       "5    34    Sally\n",
       "6    25  Richard\n",
       "7    33   Lauren\n",
       "8    27  Brandon\n",
       "9    34  Sabrina"
      ]
     },
     "execution_count": 47,
     "metadata": {},
     "output_type": "execute_result"
    }
   ],
   "source": [
    "df = pd.DataFrame.from_dict(my_dict)\n",
    "print('Resulting type: %s' % type(df))\n",
    "df.head(10) # Displays the first 10 elements of a dataframe"
   ]
  },
  {
   "cell_type": "code",
   "execution_count": 43,
   "metadata": {
    "collapsed": false
   },
   "outputs": [
    {
     "name": "stdout",
     "output_type": "stream",
     "text": [
      "Dataframe shape:\n",
      "(10, 2)\n",
      "Dataframe length: 10\n"
     ]
    }
   ],
   "source": [
    "# The dataframe has a shape property, just like a NumPy matrix. \n",
    "\n",
    "print('Dataframe shape:')\n",
    "print(df.shape)\n",
    "\n",
    "# It also has an overall length property corresponding to the number of rows.\n",
    "\n",
    "print('Dataframe length: %s' % len(df))"
   ]
  },
  {
   "cell_type": "markdown",
   "metadata": {},
   "source": [
    "You can directly select a column of a dataframe just like you would a dict. The result is a Pandas 'Series' object"
   ]
  },
  {
   "cell_type": "code",
   "execution_count": 46,
   "metadata": {
    "collapsed": false
   },
   "outputs": [
    {
     "name": "stdout",
     "output_type": "stream",
     "text": [
      "Type of a column: <class 'pandas.core.series.Series'>\n",
      "0    31\n",
      "1    32\n",
      "2    33\n",
      "3    29\n",
      "4    25\n",
      "5    34\n",
      "6    25\n",
      "7    33\n",
      "8    27\n",
      "9    34\n",
      "Name: ages, dtype: int64\n",
      "27\n"
     ]
    }
   ],
   "source": [
    "print('Type of a column: %s' % type(df['ages']))\n",
    "print(df['ages'])\n",
    "\n",
    "# Even though they are more complex series objects, they still support the behavior of the underlying NumPy arrays\n",
    "\n",
    "print(df['ages'][8])"
   ]
  },
  {
   "cell_type": "markdown",
   "metadata": {},
   "source": [
    "Along the horizontal dimension, rows of Pandas DataFrames are Row objects. You will notice there is a third column present in the DataFrame - this is the $\\textit{index}$. It is automatically generated as a row number, but can be reassigned to a column of your choice using the DataFrame.set_index(colname) method. We can use it to access particular Pandas $\\textit{rows}$, which are also Series objects:"
   ]
  },
  {
   "cell_type": "code",
   "execution_count": 58,
   "metadata": {
    "collapsed": false
   },
   "outputs": [
    {
     "name": "stdout",
     "output_type": "stream",
     "text": [
      "Type of myrow: <class 'pandas.core.series.Series'>\n",
      "ages        31\n",
      "names    Alice\n",
      "Name: 0, dtype: object\n"
     ]
    }
   ],
   "source": [
    "myrow = df.loc[0]\n",
    "print('Type of myrow: %s' % type(myrow))\n",
    "\n",
    "print(myrow)"
   ]
  },
  {
   "cell_type": "code",
   "execution_count": 59,
   "metadata": {
    "collapsed": false
   },
   "outputs": [
    {
     "data": {
      "text/plain": [
       "Index([u'ages', u'names'], dtype='object')"
      ]
     },
     "execution_count": 59,
     "metadata": {},
     "output_type": "execute_result"
    }
   ],
   "source": [
    "# A series can support dict-like features when it's used as a DataFrame row. \n",
    "myrow.keys()"
   ]
  },
  {
   "cell_type": "code",
   "execution_count": 61,
   "metadata": {
    "collapsed": false
   },
   "outputs": [
    {
     "name": "stdout",
     "output_type": "stream",
     "text": [
      "31\n"
     ]
    }
   ],
   "source": [
    "print(myrow['ages'])"
   ]
  },
  {
   "cell_type": "markdown",
   "metadata": {},
   "source": [
    "That said, if you use slicing to grab a section of a dataframe, you'll end up with another DataFrame:"
   ]
  },
  {
   "cell_type": "code",
   "execution_count": 62,
   "metadata": {
    "collapsed": false
   },
   "outputs": [
    {
     "data": {
      "text/html": [
       "<div>\n",
       "<table border=\"1\" class=\"dataframe\">\n",
       "  <thead>\n",
       "    <tr style=\"text-align: right;\">\n",
       "      <th></th>\n",
       "      <th>ages</th>\n",
       "      <th>names</th>\n",
       "    </tr>\n",
       "  </thead>\n",
       "  <tbody>\n",
       "    <tr>\n",
       "      <th>2</th>\n",
       "      <td>33</td>\n",
       "      <td>James</td>\n",
       "    </tr>\n",
       "    <tr>\n",
       "      <th>3</th>\n",
       "      <td>29</td>\n",
       "      <td>Beth</td>\n",
       "    </tr>\n",
       "    <tr>\n",
       "      <th>4</th>\n",
       "      <td>25</td>\n",
       "      <td>John</td>\n",
       "    </tr>\n",
       "  </tbody>\n",
       "</table>\n",
       "</div>"
      ],
      "text/plain": [
       "   ages  names\n",
       "2    33  James\n",
       "3    29   Beth\n",
       "4    25   John"
      ]
     },
     "execution_count": 62,
     "metadata": {},
     "output_type": "execute_result"
    }
   ],
   "source": [
    "df[2:5]"
   ]
  },
  {
   "cell_type": "markdown",
   "metadata": {},
   "source": [
    "The above syntax will work, but be aware, passing as single int will be interpreted as a column key"
   ]
  },
  {
   "cell_type": "code",
   "execution_count": null,
   "metadata": {
    "collapsed": false
   },
   "outputs": [],
   "source": [
    "df[2] # Will throw a huge key error"
   ]
  },
  {
   "cell_type": "markdown",
   "metadata": {},
   "source": [
    "It is possible to spend a whole week simply exploring the built-in functions supported by DataFrames in Pandas. Here however, we will simply highlight a few ones that might be useful, to give you an idea of what's possible out of the box with Pandas:"
   ]
  },
  {
   "cell_type": "code",
   "execution_count": 66,
   "metadata": {
    "collapsed": false
   },
   "outputs": [
    {
     "data": {
      "text/html": [
       "<div>\n",
       "<table border=\"1\" class=\"dataframe\">\n",
       "  <thead>\n",
       "    <tr style=\"text-align: right;\">\n",
       "      <th></th>\n",
       "      <th>ages</th>\n",
       "    </tr>\n",
       "  </thead>\n",
       "  <tbody>\n",
       "    <tr>\n",
       "      <th>count</th>\n",
       "      <td>10.000000</td>\n",
       "    </tr>\n",
       "    <tr>\n",
       "      <th>mean</th>\n",
       "      <td>30.300000</td>\n",
       "    </tr>\n",
       "    <tr>\n",
       "      <th>std</th>\n",
       "      <td>3.560587</td>\n",
       "    </tr>\n",
       "    <tr>\n",
       "      <th>min</th>\n",
       "      <td>25.000000</td>\n",
       "    </tr>\n",
       "    <tr>\n",
       "      <th>25%</th>\n",
       "      <td>27.500000</td>\n",
       "    </tr>\n",
       "    <tr>\n",
       "      <th>50%</th>\n",
       "      <td>31.500000</td>\n",
       "    </tr>\n",
       "    <tr>\n",
       "      <th>75%</th>\n",
       "      <td>33.000000</td>\n",
       "    </tr>\n",
       "    <tr>\n",
       "      <th>max</th>\n",
       "      <td>34.000000</td>\n",
       "    </tr>\n",
       "  </tbody>\n",
       "</table>\n",
       "</div>"
      ],
      "text/plain": [
       "            ages\n",
       "count  10.000000\n",
       "mean   30.300000\n",
       "std     3.560587\n",
       "min    25.000000\n",
       "25%    27.500000\n",
       "50%    31.500000\n",
       "75%    33.000000\n",
       "max    34.000000"
      ]
     },
     "execution_count": 66,
     "metadata": {},
     "output_type": "execute_result"
    }
   ],
   "source": [
    "df.describe() # Collect summary statistics in one line"
   ]
  },
  {
   "cell_type": "code",
   "execution_count": 67,
   "metadata": {
    "collapsed": false
   },
   "outputs": [
    {
     "name": "stderr",
     "output_type": "stream",
     "text": [
      "/opt/local/Library/Frameworks/Python.framework/Versions/2.7/lib/python2.7/site-packages/ipykernel/__main__.py:1: FutureWarning: sort(columns=....) is deprecated, use sort_values(by=.....)\n",
      "  if __name__ == '__main__':\n"
     ]
    },
    {
     "data": {
      "text/html": [
       "<div>\n",
       "<table border=\"1\" class=\"dataframe\">\n",
       "  <thead>\n",
       "    <tr style=\"text-align: right;\">\n",
       "      <th></th>\n",
       "      <th>ages</th>\n",
       "      <th>names</th>\n",
       "    </tr>\n",
       "  </thead>\n",
       "  <tbody>\n",
       "    <tr>\n",
       "      <th>4</th>\n",
       "      <td>25</td>\n",
       "      <td>John</td>\n",
       "    </tr>\n",
       "    <tr>\n",
       "      <th>6</th>\n",
       "      <td>25</td>\n",
       "      <td>Richard</td>\n",
       "    </tr>\n",
       "    <tr>\n",
       "      <th>8</th>\n",
       "      <td>27</td>\n",
       "      <td>Brandon</td>\n",
       "    </tr>\n",
       "    <tr>\n",
       "      <th>3</th>\n",
       "      <td>29</td>\n",
       "      <td>Beth</td>\n",
       "    </tr>\n",
       "    <tr>\n",
       "      <th>0</th>\n",
       "      <td>31</td>\n",
       "      <td>Alice</td>\n",
       "    </tr>\n",
       "    <tr>\n",
       "      <th>1</th>\n",
       "      <td>32</td>\n",
       "      <td>Bob</td>\n",
       "    </tr>\n",
       "    <tr>\n",
       "      <th>2</th>\n",
       "      <td>33</td>\n",
       "      <td>James</td>\n",
       "    </tr>\n",
       "    <tr>\n",
       "      <th>7</th>\n",
       "      <td>33</td>\n",
       "      <td>Lauren</td>\n",
       "    </tr>\n",
       "    <tr>\n",
       "      <th>5</th>\n",
       "      <td>34</td>\n",
       "      <td>Sally</td>\n",
       "    </tr>\n",
       "    <tr>\n",
       "      <th>9</th>\n",
       "      <td>34</td>\n",
       "      <td>Sabrina</td>\n",
       "    </tr>\n",
       "  </tbody>\n",
       "</table>\n",
       "</div>"
      ],
      "text/plain": [
       "   ages    names\n",
       "4    25     John\n",
       "6    25  Richard\n",
       "8    27  Brandon\n",
       "3    29     Beth\n",
       "0    31    Alice\n",
       "1    32      Bob\n",
       "2    33    James\n",
       "7    33   Lauren\n",
       "5    34    Sally\n",
       "9    34  Sabrina"
      ]
     },
     "execution_count": 67,
     "metadata": {},
     "output_type": "execute_result"
    }
   ],
   "source": [
    "df.sort('ages')"
   ]
  },
  {
   "cell_type": "code",
   "execution_count": 68,
   "metadata": {
    "collapsed": false
   },
   "outputs": [
    {
     "data": {
      "text/plain": [
       "0     True\n",
       "1     True\n",
       "2     True\n",
       "3    False\n",
       "4    False\n",
       "5     True\n",
       "6    False\n",
       "7     True\n",
       "8    False\n",
       "9     True\n",
       "Name: ages, dtype: bool"
      ]
     },
     "execution_count": 68,
     "metadata": {},
     "output_type": "execute_result"
    }
   ],
   "source": [
    "df['ages'] > 29 # Conditional boolean dataframe"
   ]
  },
  {
   "cell_type": "code",
   "execution_count": 69,
   "metadata": {
    "collapsed": false
   },
   "outputs": [
    {
     "data": {
      "text/html": [
       "<div>\n",
       "<table border=\"1\" class=\"dataframe\">\n",
       "  <thead>\n",
       "    <tr style=\"text-align: right;\">\n",
       "      <th></th>\n",
       "      <th>ages</th>\n",
       "      <th>names</th>\n",
       "    </tr>\n",
       "  </thead>\n",
       "  <tbody>\n",
       "    <tr>\n",
       "      <th>0</th>\n",
       "      <td>31</td>\n",
       "      <td>Alice</td>\n",
       "    </tr>\n",
       "    <tr>\n",
       "      <th>1</th>\n",
       "      <td>32</td>\n",
       "      <td>Bob</td>\n",
       "    </tr>\n",
       "    <tr>\n",
       "      <th>2</th>\n",
       "      <td>33</td>\n",
       "      <td>James</td>\n",
       "    </tr>\n",
       "    <tr>\n",
       "      <th>5</th>\n",
       "      <td>34</td>\n",
       "      <td>Sally</td>\n",
       "    </tr>\n",
       "    <tr>\n",
       "      <th>7</th>\n",
       "      <td>33</td>\n",
       "      <td>Lauren</td>\n",
       "    </tr>\n",
       "    <tr>\n",
       "      <th>9</th>\n",
       "      <td>34</td>\n",
       "      <td>Sabrina</td>\n",
       "    </tr>\n",
       "  </tbody>\n",
       "</table>\n",
       "</div>"
      ],
      "text/plain": [
       "   ages    names\n",
       "0    31    Alice\n",
       "1    32      Bob\n",
       "2    33    James\n",
       "5    34    Sally\n",
       "7    33   Lauren\n",
       "9    34  Sabrina"
      ]
     },
     "execution_count": 69,
     "metadata": {},
     "output_type": "execute_result"
    }
   ],
   "source": [
    "df[df['ages'] > 29]"
   ]
  },
  {
   "cell_type": "code",
   "execution_count": null,
   "metadata": {
    "collapsed": true
   },
   "outputs": [],
   "source": []
  }
 ],
 "metadata": {
  "kernelspec": {
   "display_name": "Python 2",
   "language": "python",
   "name": "python2"
  },
  "language_info": {
   "codemirror_mode": {
    "name": "ipython",
    "version": 2
   },
   "file_extension": ".py",
   "mimetype": "text/x-python",
   "name": "python",
   "nbconvert_exporter": "python",
   "pygments_lexer": "ipython2",
   "version": "2.7.11"
  }
 },
 "nbformat": 4,
 "nbformat_minor": 0
}
